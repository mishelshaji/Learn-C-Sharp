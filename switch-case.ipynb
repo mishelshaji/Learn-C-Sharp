{
 "cells": [
  {
   "cell_type": "markdown",
   "metadata": {
    "dotnet_interactive": {
     "language": "csharp"
    }
   },
   "source": [
    "# Switch Case"
   ]
  },
  {
   "cell_type": "code",
   "execution_count": null,
   "metadata": {
    "dotnet_interactive": {
     "language": "csharp"
    }
   },
   "outputs": [
    {
     "name": "stdout",
     "output_type": "stream",
     "text": [
      "ONE\r\n"
     ]
    }
   ],
   "source": [
    "var i = 1;\n",
    "\n",
    "if (i == 1) {\n",
    "    Console.WriteLine(\"ONE\");\n",
    "}\n",
    "else if (i == 2) {\n",
    "    Console.WriteLine(\"TWO\");\n",
    "}\n",
    "else if (i == 3) {\n",
    "    Console.WriteLine(\"THREE\");\n",
    "}\n",
    "else{\n",
    "    Console.WriteLine(\"UNKNOWN\");\n",
    "}"
   ]
  },
  {
   "cell_type": "markdown",
   "metadata": {},
   "source": [
    "We can replace the above if-else ladder with switch-case."
   ]
  },
  {
   "cell_type": "code",
   "execution_count": null,
   "metadata": {
    "dotnet_interactive": {
     "language": "csharp"
    }
   },
   "outputs": [
    {
     "name": "stdout",
     "output_type": "stream",
     "text": [
      "UNKNOWN\r\n"
     ]
    }
   ],
   "source": [
    "var i = 10;\n",
    "\n",
    "switch(i)\n",
    "{\n",
    "    case 1:\n",
    "        Console.WriteLine(\"ONE\");\n",
    "        break;\n",
    "    case 2:\n",
    "        Console.WriteLine(\"TWO\");\n",
    "        break;\n",
    "    case 3:\n",
    "        Console.WriteLine(\"THREE\");\n",
    "        break;\n",
    "    default:\n",
    "        Console.WriteLine(\"UNKNOWN\");\n",
    "        break;\n",
    "}"
   ]
  },
  {
   "cell_type": "code",
   "execution_count": null,
   "metadata": {
    "dotnet_interactive": {
     "language": "csharp"
    }
   },
   "outputs": [
    {
     "name": "stdout",
     "output_type": "stream",
     "text": [
      "1\r\n"
     ]
    }
   ],
   "source": [
    "var data = \"one\";\n",
    "\n",
    "switch(data)\n",
    "{\n",
    "    case \"one\":\n",
    "    case \"ONE\":\n",
    "        Console.WriteLine(1);\n",
    "        break;\n",
    "    case \"two\":\n",
    "        Console.WriteLine(2);\n",
    "        break;\n",
    "}"
   ]
  },
  {
   "cell_type": "code",
   "execution_count": null,
   "metadata": {
    "dotnet_interactive": {
     "language": "csharp"
    }
   },
   "outputs": [
    {
     "name": "stdout",
     "output_type": "stream",
     "text": [
      "test\r\n"
     ]
    }
   ],
   "source": [
    "var message = \"He is an Indian\";\n",
    "switch(message)\n",
    "{\n",
    "    case string x when message.EndsWith(\"Indian\"):\n",
    "        Console.WriteLine(\"He is from India\");\n",
    "        break;\n",
    "}"
   ]
  }
 ],
 "metadata": {
  "kernelspec": {
   "display_name": ".NET (C#)",
   "language": "C#",
   "name": ".net-csharp"
  },
  "language_info": {
   "name": "C#"
  }
 },
 "nbformat": 4,
 "nbformat_minor": 2
}
