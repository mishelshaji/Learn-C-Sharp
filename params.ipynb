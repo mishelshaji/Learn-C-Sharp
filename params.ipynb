{
 "cells": [
  {
   "cell_type": "markdown",
   "metadata": {
    "dotnet_interactive": {
     "language": "csharp"
    }
   },
   "source": [
    "# Params Keyword"
   ]
  },
  {
   "cell_type": "code",
   "execution_count": null,
   "metadata": {
    "dotnet_interactive": {
     "language": "csharp"
    }
   },
   "outputs": [
    {
     "name": "stdout",
     "output_type": "stream",
     "text": [
      "3\r\n",
      "15\r\n"
     ]
    }
   ],
   "source": [
    "static void Add(int i, int j, params int[] additionalValues)\n",
    "{\n",
    "    var sum = i + j + additionalValues.Sum();\n",
    "    Console.WriteLine(sum);\n",
    "}\n",
    "\n",
    "Add(1, 2);\n",
    "Add(1, 2, 3, 4, 5);"
   ]
  }
 ],
 "metadata": {
  "kernelspec": {
   "display_name": ".NET (C#)",
   "language": "C#",
   "name": ".net-csharp"
  },
  "language_info": {
   "name": "C#"
  }
 },
 "nbformat": 4,
 "nbformat_minor": 2
}
