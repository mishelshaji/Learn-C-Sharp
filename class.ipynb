{
 "cells": [
  {
   "cell_type": "markdown",
   "metadata": {
    "dotnet_interactive": {
     "language": "csharp"
    }
   },
   "source": [
    "# Class"
   ]
  },
  {
   "cell_type": "code",
   "execution_count": null,
   "metadata": {
    "dotnet_interactive": {
     "language": "csharp"
    }
   },
   "outputs": [
    {
     "name": "stdout",
     "output_type": "stream",
     "text": [
      "Person 1\r\n",
      "Person 2\r\n"
     ]
    }
   ],
   "source": [
    "class Person\n",
    "{\n",
    "    public string Name;\n",
    "}\n",
    "\n",
    "Person p1 = new Person();\n",
    "p1.Name = \"Person 1\";\n",
    "Console.WriteLine(p1.Name);\n",
    "\n",
    "Person p2 = new Person();\n",
    "p2.Name = \"Person 2\";\n",
    "Console.WriteLine(p2.Name);"
   ]
  },
  {
   "cell_type": "code",
   "execution_count": null,
   "metadata": {
    "dotnet_interactive": {
     "language": "csharp"
    }
   },
   "outputs": [
    {
     "name": "stdout",
     "output_type": "stream",
     "text": [
      "Person 1 is 25 year old.\r\n"
     ]
    }
   ],
   "source": [
    "class Person\n",
    "{\n",
    "    public string Name;\n",
    "    public int Age;\n",
    "}\n",
    "\n",
    "// More simplified declaration\n",
    "Person p2 = new Person\n",
    "{\n",
    "    Name = \"Person 1\", \n",
    "    Age = 25 \n",
    "};\n",
    "Console.WriteLine($\"{p2.Name} is {p2.Age} year old.\");"
   ]
  },
  {
   "cell_type": "code",
   "execution_count": null,
   "metadata": {
    "dotnet_interactive": {
     "language": "csharp"
    }
   },
   "outputs": [],
   "source": [
    "class Student\n",
    "{\n",
    "    public string Name;\n",
    "    public int Mark1;\n",
    "    public int Mark2;\n",
    "\n",
    "    public void TotalMark()\n",
    "    {\n",
    "        Console.WriteLine(Mark1 + Mark2);\n",
    "    }\n",
    "}\n",
    "\n",
    "var s1 = new Student\n",
    "{\n",
    "    Name = \"Person 1\",\n",
    "    Mark1 = 8,\n",
    "    Mark2 = 9\n",
    "};\n",
    "s1.TotalMark();"
   ]
  },
  {
   "cell_type": "code",
   "execution_count": null,
   "metadata": {
    "dotnet_interactive": {
     "language": "csharp"
    }
   },
   "outputs": [
    {
     "name": "stdout",
     "output_type": "stream",
     "text": [
      "Total Mark: 17\r\n",
      "Average Mark: 8\r\n"
     ]
    }
   ],
   "source": [
    "class Student\n",
    "{\n",
    "    public string Name;\n",
    "    public int Mark1;\n",
    "    public int Mark2;\n",
    "\n",
    "    public int TotalMark()\n",
    "    {\n",
    "        return Mark1 + Mark2;\n",
    "    }\n",
    "\n",
    "    public int AverageMark()\n",
    "    {\n",
    "        var avg = TotalMark() / 2;\n",
    "        return avg;\n",
    "    }\n",
    "}\n",
    "\n",
    "var s1 = new Student\n",
    "{\n",
    "    Name = \"Person 1\",\n",
    "    Mark1 = 8,\n",
    "    Mark2 = 9\n",
    "};\n",
    "Console.WriteLine($\"Total Mark: {s1.TotalMark()}\");\n",
    "Console.WriteLine($\"Average Mark: {s1.AverageMark()}\");"
   ]
  },
  {
   "cell_type": "code",
   "execution_count": null,
   "metadata": {
    "dotnet_interactive": {
     "language": "csharp"
    }
   },
   "outputs": [],
   "source": [
    "class Calculator\n",
    "{\n",
    "    int num1;\n",
    "    int num2;\n",
    "\n",
    "    void Add()\n",
    "    {\n",
    "        Console.WriteLine(num1 + num2);\n",
    "    }\n",
    "\n",
    "    void Subtract()\n",
    "    {\n",
    "        Console.WriteLine(num1 - num2);\n",
    "    }\n",
    "\n",
    "    void Multiply()\n",
    "    {\n",
    "        Console.WriteLine(num1 * num2);\n",
    "    }\n",
    "\n",
    "    void Divide()\n",
    "    {\n",
    "        Console.WriteLine(num1 / num2);\n",
    "    }\n",
    "\n",
    "    public void Run()\n",
    "    {\n",
    "        while(true)\n",
    "        {\n",
    "            Console.WriteLine(\"Enter the first number: \");\n",
    "            num1 = Convert.ToInt32(Console.ReadLine());\n",
    "            Console.WriteLine(\"Enter the second number: \");\n",
    "            num2 = Convert.ToInt32(Console.ReadLine());\n",
    "            Console.WriteLine(\"Enter the operation: \");\n",
    "            var operation = Console.ReadLine();\n",
    "\n",
    "            switch(operation)\n",
    "            {\n",
    "                case \"+\":\n",
    "                    Add();\n",
    "                    break;\n",
    "                case \"-\":\n",
    "                    Subtract();\n",
    "                    break;\n",
    "                case \"*\":\n",
    "                    Multiply();\n",
    "                    break;\n",
    "                case \"/\":\n",
    "                    Divide();\n",
    "                    break;\n",
    "                default:\n",
    "                    Console.WriteLine(\"Invalid operation\");\n",
    "                    break;\n",
    "            }\n",
    "        }\n",
    "    }\n",
    "}\n",
    "\n",
    "new Calculator().Run();"
   ]
  }
 ],
 "metadata": {
  "kernelspec": {
   "display_name": ".NET (C#)",
   "language": "C#",
   "name": ".net-csharp"
  },
  "language_info": {
   "name": "C#"
  }
 },
 "nbformat": 4,
 "nbformat_minor": 2
}
